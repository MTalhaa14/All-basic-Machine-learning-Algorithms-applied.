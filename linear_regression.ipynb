{
  "cells": [
    {
      "cell_type": "code",
      "execution_count": null,
      "metadata": {
        "colab": {
          "base_uri": "https://localhost:8080/",
          "height": 979
        },
        "id": "YfvG6hVetTy6",
        "outputId": "32a990d0-b3ce-432b-aad2-4548674dea30"
      },
      "outputs": [
        {
          "name": "stdout",
          "output_type": "stream",
          "text": [
            "Fold 1:\n",
            "Training Error: 0.02\n",
            "Test Error: 0.12\n",
            "Confusion Matrix:\n",
            "[[17  0  0]\n",
            " [ 0 15  2]\n",
            " [ 0  4 12]]\n",
            "Accuracy: 0.88\n",
            "Precision: 0.8827067669172932\n",
            "Recall: 0.88\n",
            "F1 Score: 0.8793333333333332\n",
            "Fold 2:\n",
            "Training Error: 0.03\n",
            "Test Error: 0.02\n",
            "Confusion Matrix:\n",
            "[[17  0  0]\n",
            " [ 0 15  1]\n",
            " [ 0  0 17]]\n",
            "Accuracy: 0.98\n",
            "Precision: 0.9811111111111112\n",
            "Recall: 0.98\n",
            "F1 Score: 0.979963133640553\n",
            "Fold 3:\n",
            "Training Error: 0.03\n",
            "Test Error: 0.0\n",
            "Confusion Matrix:\n",
            "[[16  0  0]\n",
            " [ 0 17  0]\n",
            " [ 0  0 17]]\n",
            "Accuracy: 1.0\n",
            "Precision: 1.0\n",
            "Recall: 1.0\n",
            "F1 Score: 1.0\n"
          ]
        },
        {
          "data": {
            "image/png": "[encoded data removed]",
            "text/plain": [
              "<Figure size 640x480 with 1 Axes>"
            ]
          },
          "metadata": {},
          "output_type": "display_data"
        }
      ],
      "source": [
        "#F2020376027 MTQ\n",
        "import numpy as np\n",
        "from sklearn.datasets import load_iris\n",
        "from sklearn.model_selection import train_test_split\n",
        "from sklearn.linear_model import LogisticRegression\n",
        "from sklearn.metrics import accuracy_score, precision_score, recall_score, f1_score\n",
        "import matplotlib.pyplot as plt\n",
        "\n",
        "# Load iris dataset\n",
        "iris = load_iris()\n",
        "X, Y = iris.data, iris.target\n",
        "\n",
        "# Split data into train and test sets\n",
        "x_train, x_test, y_train, y_test = train_test_split(X, Y, test_size=0.2, random_state=42)\n",
        "\n",
        "# Initialize the logistic regression model\n",
        "logistic_model = LogisticRegression(max_iter=1000)\n",
        "\n",
        "# Train the model\n",
        "logistic_model.fit(x_train, y_train)\n",
        "\n",
        "# Predict on training and test data\n",
        "y_train_pred = logistic_model.predict(x_train)\n",
        "y_test_pred = logistic_model.predict(x_test)\n",
        "\n",
        "# Calculate the training and test errors\n",
        "train_error = np.mean(y_train != y_train_pred)\n",
        "test_error = np.mean(y_test != y_test_pred)\n",
        "\n",
        "# Calculate accuracy, precision, recall, and F1 score\n",
        "accuracy = accuracy_score(y_test, y_test_pred)\n",
        "precision = precision_score(y_test, y_test_pred, average='weighted')\n",
        "recall = recall_score(y_test, y_test_pred, average='weighted')\n",
        "f1 = f1_score(y_test, y_test_pred, average='weighted')\n",
        "\n",
        "# Print the errors and metrics\n",
        "print(f\"Training Error: {train_error}\")\n",
        "print(f\"Test Error: {test_error}\")\n",
        "print(f\"Accuracy: {accuracy}\")\n",
        "print(f\"Precision: {precision}\")\n",
        "print(f\"Recall: {recall}\")\n",
        "print(f\"F1 Score: {f1}\")\n",
        "\n",
        "# Create a table to display the training and test errors, and metrics\n",
        "table = np.array([[train_error, test_error, accuracy, precision, recall, f1]])\n",
        "\n",
        "# Plot the table\n",
        "fig, ax = plt.subplots()\n",
        "ax.axis('off')\n",
        "ax.table(cellText=table, colLabels=['Training Error', 'Test Error', 'Accuracy', 'Precision', 'Recall', 'F1 Score'], loc='center')\n",
        "\n",
        "plt.show()\n"
      ]
    }
  ],
  "metadata": {
    "colab": {
      "provenance": []
    },
    "kernelspec": {
      "display_name": "Python 3",
      "name": "python3"
    },
    "language_info": {
      "name": "python"
    }
  },
  "nbformat": 4,
  "nbformat_minor": 0
}
